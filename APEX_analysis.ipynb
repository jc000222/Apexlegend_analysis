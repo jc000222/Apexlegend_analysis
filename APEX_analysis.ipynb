{
 "cells": [
  {
   "cell_type": "markdown",
   "metadata": {},
   "source": [
    "# APEX Legend Analysis:\n",
    "### -Project 2 (M9): Working with Web Data\n",
    "\n",
    "Author: Ruoyu Chen\n",
    "\n",
    "Github Repository: https://github.com/jc000222/Apexlegend_analysis"
   ]
  },
  {
   "cell_type": "markdown",
   "metadata": {},
   "source": [
    "# Part 1: XML Parsing\n",
    "First initialize the class \"xml_load\" from \"xml_related.py\"."
   ]
  },
  {
   "cell_type": "code",
   "execution_count": 1,
   "metadata": {},
   "outputs": [],
   "source": [
    "from src.my_package.xml_related import XmlLoad\n",
    "\n",
    "website='https://apexlegendsstatus.com'\n",
    "xml_parse = XmlLoad(website)"
   ]
  },
  {
   "cell_type": "markdown",
   "metadata": {},
   "source": [
    "Take a look at the robot.txt file to see if it has sitemaps.\n",
    "\n",
    "From the result, 'apexlegendsstatus.com' allows scraping all webpages and provide one Sitemap."
   ]
  },
  {
   "cell_type": "code",
   "execution_count": 2,
   "metadata": {},
   "outputs": [
    {
     "name": "stdout",
     "output_type": "stream",
     "text": [
      "User-agent: *\n",
      "Allow: /\n",
      "Sitemap: https://apexlegendsstatus.com/sitemap.xml\n"
     ]
    }
   ],
   "source": [
    "print(xml_parse.robotstxt)"
   ]
  },
  {
   "cell_type": "markdown",
   "metadata": {},
   "source": [
    "Use split() to get the sitemap for next steps use. To make my code more applicable, get_sitemap() will gather all sitemaps in the robots.txt and return a list."
   ]
  },
  {
   "cell_type": "code",
   "execution_count": 3,
   "metadata": {},
   "outputs": [
    {
     "data": {
      "text/plain": [
       "['https://apexlegendsstatus.com/sitemap.xml']"
      ]
     },
     "execution_count": 3,
     "metadata": {},
     "output_type": "execute_result"
    }
   ],
   "source": [
    "xml_parse.get_sitemap()"
   ]
  },
  {
   "cell_type": "markdown",
   "metadata": {},
   "source": [
    "Parse the contents of each sitemap into a DataFrame. Function get_sitemap_df() is capable of retuning multiple dataframes in a list."
   ]
  },
  {
   "cell_type": "code",
   "execution_count": 4,
   "metadata": {},
   "outputs": [
    {
     "data": {
      "text/html": [
       "<div>\n",
       "<style scoped>\n",
       "    .dataframe tbody tr th:only-of-type {\n",
       "        vertical-align: middle;\n",
       "    }\n",
       "\n",
       "    .dataframe tbody tr th {\n",
       "        vertical-align: top;\n",
       "    }\n",
       "\n",
       "    .dataframe thead th {\n",
       "        text-align: right;\n",
       "    }\n",
       "</style>\n",
       "<table border=\"1\" class=\"dataframe\">\n",
       "  <thead>\n",
       "    <tr style=\"text-align: right;\">\n",
       "      <th></th>\n",
       "      <th>URL</th>\n",
       "      <th>Last Modified</th>\n",
       "      <th>priority</th>\n",
       "    </tr>\n",
       "  </thead>\n",
       "  <tbody>\n",
       "    <tr>\n",
       "      <th>0</th>\n",
       "      <td>https://apexlegendsstatus.com/</td>\n",
       "      <td>2021-03-07T23:14:09+00:00</td>\n",
       "      <td>1.00</td>\n",
       "    </tr>\n",
       "    <tr>\n",
       "      <th>1</th>\n",
       "      <td>https://apexlegendsstatus.com/disclaimer</td>\n",
       "      <td>2021-03-07T23:14:09+00:00</td>\n",
       "      <td>0.80</td>\n",
       "    </tr>\n",
       "    <tr>\n",
       "      <th>2</th>\n",
       "      <td>https://apexlegendsstatus.com/how-to-fix/code-100</td>\n",
       "      <td>2021-03-07T23:14:09+00:00</td>\n",
       "      <td>0.80</td>\n",
       "    </tr>\n",
       "    <tr>\n",
       "      <th>3</th>\n",
       "      <td>https://apexlegendsstatus.com/how-to-fix/code-net</td>\n",
       "      <td>2021-03-07T23:14:09+00:00</td>\n",
       "      <td>0.80</td>\n",
       "    </tr>\n",
       "    <tr>\n",
       "      <th>4</th>\n",
       "      <td>https://apexlegendsstatus.com/how-to-fix/code-...</td>\n",
       "      <td>2021-03-07T23:14:09+00:00</td>\n",
       "      <td>0.80</td>\n",
       "    </tr>\n",
       "    <tr>\n",
       "      <th>...</th>\n",
       "      <td>...</td>\n",
       "      <td>...</td>\n",
       "      <td>...</td>\n",
       "    </tr>\n",
       "    <tr>\n",
       "      <th>62</th>\n",
       "      <td>https://apexlegendsstatus.com/interactive-map/...</td>\n",
       "      <td>2022-12-30T06:00:00+00:00</td>\n",
       "      <td>0.80</td>\n",
       "    </tr>\n",
       "    <tr>\n",
       "      <th>63</th>\n",
       "      <td>https://apexlegendsstatus.com/interactive-map/...</td>\n",
       "      <td>2022-12-30T06:00:00+00:00</td>\n",
       "      <td>0.80</td>\n",
       "    </tr>\n",
       "    <tr>\n",
       "      <th>64</th>\n",
       "      <td>https://apexlegendsstatus.com/interactive-map/...</td>\n",
       "      <td>2022-12-30T06:00:00+00:00</td>\n",
       "      <td>0.80</td>\n",
       "    </tr>\n",
       "    <tr>\n",
       "      <th>65</th>\n",
       "      <td>https://apexlegendsstatus.com/interactive-map/...</td>\n",
       "      <td>2022-12-30T06:00:00+00:00</td>\n",
       "      <td>0.80</td>\n",
       "    </tr>\n",
       "    <tr>\n",
       "      <th>66</th>\n",
       "      <td>https://apexlegendsstatus.com/interactive-map/...</td>\n",
       "      <td>2022-12-30T06:00:00+00:00</td>\n",
       "      <td>0.80</td>\n",
       "    </tr>\n",
       "  </tbody>\n",
       "</table>\n",
       "<p>67 rows × 3 columns</p>\n",
       "</div>"
      ],
      "text/plain": [
       "                                                  URL  \\\n",
       "0                      https://apexlegendsstatus.com/   \n",
       "1            https://apexlegendsstatus.com/disclaimer   \n",
       "2   https://apexlegendsstatus.com/how-to-fix/code-100   \n",
       "3   https://apexlegendsstatus.com/how-to-fix/code-net   \n",
       "4   https://apexlegendsstatus.com/how-to-fix/code-...   \n",
       "..                                                ...   \n",
       "62  https://apexlegendsstatus.com/interactive-map/...   \n",
       "63  https://apexlegendsstatus.com/interactive-map/...   \n",
       "64  https://apexlegendsstatus.com/interactive-map/...   \n",
       "65  https://apexlegendsstatus.com/interactive-map/...   \n",
       "66  https://apexlegendsstatus.com/interactive-map/...   \n",
       "\n",
       "                Last Modified priority  \n",
       "0   2021-03-07T23:14:09+00:00     1.00  \n",
       "1   2021-03-07T23:14:09+00:00     0.80  \n",
       "2   2021-03-07T23:14:09+00:00     0.80  \n",
       "3   2021-03-07T23:14:09+00:00     0.80  \n",
       "4   2021-03-07T23:14:09+00:00     0.80  \n",
       "..                        ...      ...  \n",
       "62  2022-12-30T06:00:00+00:00     0.80  \n",
       "63  2022-12-30T06:00:00+00:00     0.80  \n",
       "64  2022-12-30T06:00:00+00:00     0.80  \n",
       "65  2022-12-30T06:00:00+00:00     0.80  \n",
       "66  2022-12-30T06:00:00+00:00     0.80  \n",
       "\n",
       "[67 rows x 3 columns]"
      ]
     },
     "execution_count": 4,
     "metadata": {},
     "output_type": "execute_result"
    }
   ],
   "source": [
    "dataframes=xml_parse.get_sitemap_df()\n",
    "dataframes[0]"
   ]
  },
  {
   "cell_type": "markdown",
   "metadata": {},
   "source": [
    "### How I might use the dataset:\n",
    "The XML returns all the URLs of the website. From this dataframe, we can get to know there may be 67 different pages and the last modified date. I can use this data to select wich data I want to scrape or the data I am interested in and get them from API."
   ]
  },
  {
   "cell_type": "markdown",
   "metadata": {},
   "source": [
    "# Part 2: Using an API \n",
    "First initialize the class \"ApiProcess\" from \"api_related.py\".\n",
    "\n",
    "An authorization key is needed for this API."
   ]
  },
  {
   "cell_type": "code",
   "execution_count": 5,
   "metadata": {},
   "outputs": [],
   "source": [
    "from src.my_package.api_related import ApiProcess\n",
    "from src import auth\n",
    "\n",
    "player_name = 'nndkale'\n",
    "platform = 'PC'\n",
    "loader=ApiProcess(auth.auth_key(),player_name,platform)\n"
   ]
  },
  {
   "cell_type": "markdown",
   "metadata": {},
   "source": [
    "In this API, the player's uid is used for searching. We need to use player name to search for the player's uid through a API provided."
   ]
  },
  {
   "cell_type": "code",
   "execution_count": 6,
   "metadata": {},
   "outputs": [
    {
     "name": "stdout",
     "output_type": "stream",
     "text": [
      "uid: 1005428853696\n"
     ]
    }
   ],
   "source": [
    "player_name='nndkale'\n",
    "uid=loader.get_uid(player_name)"
   ]
  },
  {
   "cell_type": "markdown",
   "metadata": {},
   "source": [
    "This API allows you to get a player's statistics using his UID and his platform. In this project I want to get all the legends' statistics. \n",
    "\n",
    "The API returns in a json fromat, and using .json() and convert it into dataframe.  The returned JSON file has too many data aggregated inside each columns. Unwrap the data and put the data needed into a dataframe.\n",
    "\n",
    "In this process, the legend that don't have data are removed. The reason why there is an NaN is that I haven't unlocked those legends therefore no data was recorded."
   ]
  },
  {
   "cell_type": "code",
   "execution_count": 7,
   "metadata": {},
   "outputs": [
    {
     "data": {
      "text/html": [
       "<div>\n",
       "<style scoped>\n",
       "    .dataframe tbody tr th:only-of-type {\n",
       "        vertical-align: middle;\n",
       "    }\n",
       "\n",
       "    .dataframe tbody tr th {\n",
       "        vertical-align: top;\n",
       "    }\n",
       "\n",
       "    .dataframe thead th {\n",
       "        text-align: right;\n",
       "    }\n",
       "</style>\n",
       "<table border=\"1\" class=\"dataframe\">\n",
       "  <thead>\n",
       "    <tr style=\"text-align: right;\">\n",
       "      <th></th>\n",
       "      <th>Legend</th>\n",
       "      <th>kills</th>\n",
       "      <th>Damage</th>\n",
       "      <th>Games_played</th>\n",
       "    </tr>\n",
       "  </thead>\n",
       "  <tbody>\n",
       "    <tr>\n",
       "      <th>0</th>\n",
       "      <td>Revenant</td>\n",
       "      <td>40</td>\n",
       "      <td>14659</td>\n",
       "      <td>32</td>\n",
       "    </tr>\n",
       "    <tr>\n",
       "      <th>1</th>\n",
       "      <td>Octane</td>\n",
       "      <td>24</td>\n",
       "      <td>9653</td>\n",
       "      <td>30</td>\n",
       "    </tr>\n",
       "    <tr>\n",
       "      <th>2</th>\n",
       "      <td>Bloodhound</td>\n",
       "      <td>79</td>\n",
       "      <td>30064</td>\n",
       "      <td>93</td>\n",
       "    </tr>\n",
       "    <tr>\n",
       "      <th>3</th>\n",
       "      <td>Caustic</td>\n",
       "      <td>1098</td>\n",
       "      <td>454991</td>\n",
       "      <td>1028</td>\n",
       "    </tr>\n",
       "    <tr>\n",
       "      <th>4</th>\n",
       "      <td>Lifeline</td>\n",
       "      <td>179</td>\n",
       "      <td>68135</td>\n",
       "      <td>134</td>\n",
       "    </tr>\n",
       "    <tr>\n",
       "      <th>5</th>\n",
       "      <td>Pathfinder</td>\n",
       "      <td>24</td>\n",
       "      <td>13319</td>\n",
       "      <td>44</td>\n",
       "    </tr>\n",
       "    <tr>\n",
       "      <th>6</th>\n",
       "      <td>Loba</td>\n",
       "      <td>155</td>\n",
       "      <td>90908</td>\n",
       "      <td>213</td>\n",
       "    </tr>\n",
       "    <tr>\n",
       "      <th>7</th>\n",
       "      <td>Rampart</td>\n",
       "      <td>29</td>\n",
       "      <td>11511</td>\n",
       "      <td>35</td>\n",
       "    </tr>\n",
       "    <tr>\n",
       "      <th>8</th>\n",
       "      <td>Seer</td>\n",
       "      <td>46</td>\n",
       "      <td>20361</td>\n",
       "      <td>69</td>\n",
       "    </tr>\n",
       "    <tr>\n",
       "      <th>9</th>\n",
       "      <td>Mad Maggie</td>\n",
       "      <td>10</td>\n",
       "      <td>5920</td>\n",
       "      <td>19</td>\n",
       "    </tr>\n",
       "  </tbody>\n",
       "</table>\n",
       "</div>"
      ],
      "text/plain": [
       "       Legend  kills  Damage  Games_played\n",
       "0    Revenant     40   14659            32\n",
       "1      Octane     24    9653            30\n",
       "2  Bloodhound     79   30064            93\n",
       "3     Caustic   1098  454991          1028\n",
       "4    Lifeline    179   68135           134\n",
       "5  Pathfinder     24   13319            44\n",
       "6        Loba    155   90908           213\n",
       "7     Rampart     29   11511            35\n",
       "8        Seer     46   20361            69\n",
       "9  Mad Maggie     10    5920            19"
      ]
     },
     "execution_count": 7,
     "metadata": {},
     "output_type": "execute_result"
    }
   ],
   "source": [
    "df_player = loader.get_data(uid)\n",
    "df_player"
   ]
  },
  {
   "cell_type": "markdown",
   "metadata": {},
   "source": [
    "### How I might use the dataset:\n",
    "This data has the data of the characters I played. I can use it to analyze which legend I played the most, which legend has the most kill and damage and what is the average kills and damage by each game."
   ]
  },
  {
   "cell_type": "markdown",
   "metadata": {},
   "source": [
    "# Part 3: Web Scraping"
   ]
  },
  {
   "cell_type": "markdown",
   "metadata": {},
   "source": [
    "In this part, we are going to scrape one of the page on apexlegendsstatus.com. It is a page with all 24 legends-pick-rates. The website looks like"
   ]
  },
  {
   "cell_type": "markdown",
   "metadata": {},
   "source": [
    "<div style=\"text-align:center\">\n",
    "    <img src=\"src/img/legends-pick-rates.png\" alt=\"Alt text\" style=\"width:50%;\" />\n",
    "</div>\n",
    "<p style=\"text-align:center\">fig 3-1 legends-pick-rates</p>"
   ]
  },
  {
   "cell_type": "markdown",
   "metadata": {},
   "source": [
    "check the robot.txt to make sure the website allow scraping.\n",
    "\n",
    "The result is allow:/, meaning all pages are allowed to scrape."
   ]
  },
  {
   "cell_type": "code",
   "execution_count": 8,
   "metadata": {},
   "outputs": [
    {
     "name": "stdout",
     "output_type": "stream",
     "text": [
      "User-agent: *\n",
      "Allow: /\n",
      "Sitemap: https://apexlegendsstatus.com/sitemap.xml\n"
     ]
    }
   ],
   "source": [
    "\n",
    "print(xml_parse.robotstxt)"
   ]
  },
  {
   "cell_type": "markdown",
   "metadata": {},
   "source": [
    "Initialize the scrape class."
   ]
  },
  {
   "cell_type": "code",
   "execution_count": 9,
   "metadata": {},
   "outputs": [],
   "source": [
    "from src.my_package.scraper import Scrape\n",
    "\n",
    "scrape_webpage='https://apexlegendsstatus.com/game-stats/legends-pick-rates'\n",
    "scraper=Scrape(scrape_webpage)"
   ]
  },
  {
   "cell_type": "markdown",
   "metadata": {},
   "source": [
    "To scrape the webpage, we need to look at where the data is and how it is stored in the HTML file. Open with F12 to check the HTML elements, the green squares indicate the data we want to scrape from the page and the red squares indicte the tag we are looking for when we use beautiful soup. \n",
    "\n",
    "The data of each legend is stored in the tag \"legends-banner__content\" and different legends are stored in different \"legends-banner__item\" tag, and all legends are stored in the tag \"legends-banner\""
   ]
  },
  {
   "cell_type": "markdown",
   "metadata": {},
   "source": [
    "<div style=\"text-align:center\">\n",
    "    <img src=\"src/img/legends-pick-rates-analysis.png\" alt=\"Alt text\" style=\"width:90%;\" />\n",
    "</div>\n",
    "<p style=\"text-align:center\">fig 3-2 legends-pick-rates html analysis</p>"
   ]
  },
  {
   "cell_type": "markdown",
   "metadata": {},
   "source": [
    "Scrape the data of all 24 legends and"
   ]
  },
  {
   "cell_type": "markdown",
   "metadata": {},
   "source": [
    "scrape the data from the request.get and turn them into a dataframe."
   ]
  },
  {
   "cell_type": "code",
   "execution_count": 10,
   "metadata": {},
   "outputs": [
    {
     "data": {
      "text/html": [
       "<div>\n",
       "<style scoped>\n",
       "    .dataframe tbody tr th:only-of-type {\n",
       "        vertical-align: middle;\n",
       "    }\n",
       "\n",
       "    .dataframe tbody tr th {\n",
       "        vertical-align: top;\n",
       "    }\n",
       "\n",
       "    .dataframe thead th {\n",
       "        text-align: right;\n",
       "    }\n",
       "</style>\n",
       "<table border=\"1\" class=\"dataframe\">\n",
       "  <thead>\n",
       "    <tr style=\"text-align: right;\">\n",
       "      <th></th>\n",
       "      <th>Legend</th>\n",
       "      <th>Pick Rate</th>\n",
       "      <th>Change</th>\n",
       "      <th>Avg Rank</th>\n",
       "      <th>Avg Level</th>\n",
       "    </tr>\n",
       "  </thead>\n",
       "  <tbody>\n",
       "    <tr>\n",
       "      <th>24</th>\n",
       "      <td>Seer</td>\n",
       "      <td>0.7</td>\n",
       "      <td>-1.87</td>\n",
       "      <td>3</td>\n",
       "      <td>368</td>\n",
       "    </tr>\n",
       "    <tr>\n",
       "      <th>22</th>\n",
       "      <td>Gibraltar</td>\n",
       "      <td>1.4</td>\n",
       "      <td>-0.59</td>\n",
       "      <td>4</td>\n",
       "      <td>383</td>\n",
       "    </tr>\n",
       "    <tr>\n",
       "      <th>21</th>\n",
       "      <td>Ballistic</td>\n",
       "      <td>1.7</td>\n",
       "      <td>-5.83</td>\n",
       "      <td>4</td>\n",
       "      <td>415</td>\n",
       "    </tr>\n",
       "    <tr>\n",
       "      <th>19</th>\n",
       "      <td>Vantage</td>\n",
       "      <td>1.8</td>\n",
       "      <td>4.05</td>\n",
       "      <td>4</td>\n",
       "      <td>442</td>\n",
       "    </tr>\n",
       "    <tr>\n",
       "      <th>17</th>\n",
       "      <td>Caustic</td>\n",
       "      <td>2.0</td>\n",
       "      <td>1.12</td>\n",
       "      <td>4</td>\n",
       "      <td>460</td>\n",
       "    </tr>\n",
       "    <tr>\n",
       "      <th>15</th>\n",
       "      <td>Ash</td>\n",
       "      <td>2.3</td>\n",
       "      <td>0.92</td>\n",
       "      <td>4</td>\n",
       "      <td>390</td>\n",
       "    </tr>\n",
       "    <tr>\n",
       "      <th>23</th>\n",
       "      <td>Crypto</td>\n",
       "      <td>1.1</td>\n",
       "      <td>8.75</td>\n",
       "      <td>4</td>\n",
       "      <td>434</td>\n",
       "    </tr>\n",
       "    <tr>\n",
       "      <th>11</th>\n",
       "      <td>Mirage</td>\n",
       "      <td>2.7</td>\n",
       "      <td>-10.90</td>\n",
       "      <td>4</td>\n",
       "      <td>482</td>\n",
       "    </tr>\n",
       "    <tr>\n",
       "      <th>0</th>\n",
       "      <td>Octane</td>\n",
       "      <td>9.1</td>\n",
       "      <td>4.24</td>\n",
       "      <td>4</td>\n",
       "      <td>406</td>\n",
       "    </tr>\n",
       "    <tr>\n",
       "      <th>7</th>\n",
       "      <td>Bloodhound</td>\n",
       "      <td>5.5</td>\n",
       "      <td>3.48</td>\n",
       "      <td>4</td>\n",
       "      <td>344</td>\n",
       "    </tr>\n",
       "    <tr>\n",
       "      <th>5</th>\n",
       "      <td>Lifeline</td>\n",
       "      <td>6.3</td>\n",
       "      <td>-19.81</td>\n",
       "      <td>4</td>\n",
       "      <td>408</td>\n",
       "    </tr>\n",
       "    <tr>\n",
       "      <th>3</th>\n",
       "      <td>Wraith</td>\n",
       "      <td>8.3</td>\n",
       "      <td>9.23</td>\n",
       "      <td>4</td>\n",
       "      <td>462</td>\n",
       "    </tr>\n",
       "    <tr>\n",
       "      <th>8</th>\n",
       "      <td>Fuse</td>\n",
       "      <td>5.2</td>\n",
       "      <td>3.79</td>\n",
       "      <td>4</td>\n",
       "      <td>445</td>\n",
       "    </tr>\n",
       "    <tr>\n",
       "      <th>12</th>\n",
       "      <td>Valkyrie</td>\n",
       "      <td>2.6</td>\n",
       "      <td>2.07</td>\n",
       "      <td>4</td>\n",
       "      <td>437</td>\n",
       "    </tr>\n",
       "    <tr>\n",
       "      <th>9</th>\n",
       "      <td>Revenant</td>\n",
       "      <td>4.4</td>\n",
       "      <td>2.18</td>\n",
       "      <td>5</td>\n",
       "      <td>444</td>\n",
       "    </tr>\n",
       "    <tr>\n",
       "      <th>10</th>\n",
       "      <td>Loba</td>\n",
       "      <td>4.0</td>\n",
       "      <td>0.99</td>\n",
       "      <td>5</td>\n",
       "      <td>460</td>\n",
       "    </tr>\n",
       "    <tr>\n",
       "      <th>14</th>\n",
       "      <td>Mad Maggie</td>\n",
       "      <td>2.3</td>\n",
       "      <td>6.31</td>\n",
       "      <td>5</td>\n",
       "      <td>472</td>\n",
       "    </tr>\n",
       "    <tr>\n",
       "      <th>16</th>\n",
       "      <td>Wattson</td>\n",
       "      <td>2.1</td>\n",
       "      <td>6.27</td>\n",
       "      <td>5</td>\n",
       "      <td>495</td>\n",
       "    </tr>\n",
       "    <tr>\n",
       "      <th>18</th>\n",
       "      <td>Rampart</td>\n",
       "      <td>1.9</td>\n",
       "      <td>2.26</td>\n",
       "      <td>5</td>\n",
       "      <td>439</td>\n",
       "    </tr>\n",
       "    <tr>\n",
       "      <th>20</th>\n",
       "      <td>Newcastle</td>\n",
       "      <td>1.7</td>\n",
       "      <td>-27.13</td>\n",
       "      <td>5</td>\n",
       "      <td>481</td>\n",
       "    </tr>\n",
       "    <tr>\n",
       "      <th>1</th>\n",
       "      <td>Pathfinder</td>\n",
       "      <td>8.5</td>\n",
       "      <td>4.45</td>\n",
       "      <td>5</td>\n",
       "      <td>445</td>\n",
       "    </tr>\n",
       "    <tr>\n",
       "      <th>13</th>\n",
       "      <td>Catalyst</td>\n",
       "      <td>2.4</td>\n",
       "      <td>2.78</td>\n",
       "      <td>6</td>\n",
       "      <td>448</td>\n",
       "    </tr>\n",
       "    <tr>\n",
       "      <th>4</th>\n",
       "      <td>Bangalore</td>\n",
       "      <td>7.4</td>\n",
       "      <td>4.13</td>\n",
       "      <td>6</td>\n",
       "      <td>439</td>\n",
       "    </tr>\n",
       "    <tr>\n",
       "      <th>2</th>\n",
       "      <td>Conduit</td>\n",
       "      <td>8.3</td>\n",
       "      <td>-6.61</td>\n",
       "      <td>6</td>\n",
       "      <td>520</td>\n",
       "    </tr>\n",
       "    <tr>\n",
       "      <th>6</th>\n",
       "      <td>Horizon</td>\n",
       "      <td>6.3</td>\n",
       "      <td>6.05</td>\n",
       "      <td>7</td>\n",
       "      <td>514</td>\n",
       "    </tr>\n",
       "  </tbody>\n",
       "</table>\n",
       "</div>"
      ],
      "text/plain": [
       "        Legend  Pick Rate  Change  Avg Rank  Avg Level\n",
       "24        Seer        0.7   -1.87         3        368\n",
       "22   Gibraltar        1.4   -0.59         4        383\n",
       "21   Ballistic        1.7   -5.83         4        415\n",
       "19     Vantage        1.8    4.05         4        442\n",
       "17     Caustic        2.0    1.12         4        460\n",
       "15         Ash        2.3    0.92         4        390\n",
       "23      Crypto        1.1    8.75         4        434\n",
       "11      Mirage        2.7  -10.90         4        482\n",
       "0       Octane        9.1    4.24         4        406\n",
       "7   Bloodhound        5.5    3.48         4        344\n",
       "5     Lifeline        6.3  -19.81         4        408\n",
       "3       Wraith        8.3    9.23         4        462\n",
       "8         Fuse        5.2    3.79         4        445\n",
       "12    Valkyrie        2.6    2.07         4        437\n",
       "9     Revenant        4.4    2.18         5        444\n",
       "10        Loba        4.0    0.99         5        460\n",
       "14  Mad Maggie        2.3    6.31         5        472\n",
       "16     Wattson        2.1    6.27         5        495\n",
       "18     Rampart        1.9    2.26         5        439\n",
       "20   Newcastle        1.7  -27.13         5        481\n",
       "1   Pathfinder        8.5    4.45         5        445\n",
       "13    Catalyst        2.4    2.78         6        448\n",
       "4    Bangalore        7.4    4.13         6        439\n",
       "2      Conduit        8.3   -6.61         6        520\n",
       "6      Horizon        6.3    6.05         7        514"
      ]
     },
     "execution_count": 10,
     "metadata": {},
     "output_type": "execute_result"
    }
   ],
   "source": [
    "df_legend=scraper.get_df()\n",
    "df_legend"
   ]
  },
  {
   "cell_type": "markdown",
   "metadata": {},
   "source": [
    "### How I might use the dataset:\n",
    "This data is the select rate, the rate change in 7 days, average rank of the legend and average rank of the legend. In this data we can get the most popular legend, or get the recently popular legend and the data of each legend."
   ]
  },
  {
   "cell_type": "markdown",
   "metadata": {},
   "source": [
    "# Part 4: Analyze dataset"
   ]
  },
  {
   "cell_type": "markdown",
   "metadata": {},
   "source": [
    "#### 4.1 player statistics analysis"
   ]
  },
  {
   "cell_type": "markdown",
   "metadata": {},
   "source": [
    "Let's see the dataframe again"
   ]
  },
  {
   "cell_type": "code",
   "execution_count": 11,
   "metadata": {},
   "outputs": [
    {
     "data": {
      "text/html": [
       "<div>\n",
       "<style scoped>\n",
       "    .dataframe tbody tr th:only-of-type {\n",
       "        vertical-align: middle;\n",
       "    }\n",
       "\n",
       "    .dataframe tbody tr th {\n",
       "        vertical-align: top;\n",
       "    }\n",
       "\n",
       "    .dataframe thead th {\n",
       "        text-align: right;\n",
       "    }\n",
       "</style>\n",
       "<table border=\"1\" class=\"dataframe\">\n",
       "  <thead>\n",
       "    <tr style=\"text-align: right;\">\n",
       "      <th></th>\n",
       "      <th>Legend</th>\n",
       "      <th>kills</th>\n",
       "      <th>Damage</th>\n",
       "      <th>Games_played</th>\n",
       "    </tr>\n",
       "  </thead>\n",
       "  <tbody>\n",
       "    <tr>\n",
       "      <th>0</th>\n",
       "      <td>Revenant</td>\n",
       "      <td>40</td>\n",
       "      <td>14659</td>\n",
       "      <td>32</td>\n",
       "    </tr>\n",
       "    <tr>\n",
       "      <th>1</th>\n",
       "      <td>Octane</td>\n",
       "      <td>24</td>\n",
       "      <td>9653</td>\n",
       "      <td>30</td>\n",
       "    </tr>\n",
       "    <tr>\n",
       "      <th>2</th>\n",
       "      <td>Bloodhound</td>\n",
       "      <td>79</td>\n",
       "      <td>30064</td>\n",
       "      <td>93</td>\n",
       "    </tr>\n",
       "    <tr>\n",
       "      <th>3</th>\n",
       "      <td>Caustic</td>\n",
       "      <td>1098</td>\n",
       "      <td>454991</td>\n",
       "      <td>1028</td>\n",
       "    </tr>\n",
       "    <tr>\n",
       "      <th>4</th>\n",
       "      <td>Lifeline</td>\n",
       "      <td>179</td>\n",
       "      <td>68135</td>\n",
       "      <td>134</td>\n",
       "    </tr>\n",
       "    <tr>\n",
       "      <th>5</th>\n",
       "      <td>Pathfinder</td>\n",
       "      <td>24</td>\n",
       "      <td>13319</td>\n",
       "      <td>44</td>\n",
       "    </tr>\n",
       "    <tr>\n",
       "      <th>6</th>\n",
       "      <td>Loba</td>\n",
       "      <td>155</td>\n",
       "      <td>90908</td>\n",
       "      <td>213</td>\n",
       "    </tr>\n",
       "    <tr>\n",
       "      <th>7</th>\n",
       "      <td>Rampart</td>\n",
       "      <td>29</td>\n",
       "      <td>11511</td>\n",
       "      <td>35</td>\n",
       "    </tr>\n",
       "    <tr>\n",
       "      <th>8</th>\n",
       "      <td>Seer</td>\n",
       "      <td>46</td>\n",
       "      <td>20361</td>\n",
       "      <td>69</td>\n",
       "    </tr>\n",
       "    <tr>\n",
       "      <th>9</th>\n",
       "      <td>Mad Maggie</td>\n",
       "      <td>10</td>\n",
       "      <td>5920</td>\n",
       "      <td>19</td>\n",
       "    </tr>\n",
       "  </tbody>\n",
       "</table>\n",
       "</div>"
      ],
      "text/plain": [
       "       Legend  kills  Damage  Games_played\n",
       "0    Revenant     40   14659            32\n",
       "1      Octane     24    9653            30\n",
       "2  Bloodhound     79   30064            93\n",
       "3     Caustic   1098  454991          1028\n",
       "4    Lifeline    179   68135           134\n",
       "5  Pathfinder     24   13319            44\n",
       "6        Loba    155   90908           213\n",
       "7     Rampart     29   11511            35\n",
       "8        Seer     46   20361            69\n",
       "9  Mad Maggie     10    5920            19"
      ]
     },
     "execution_count": 11,
     "metadata": {},
     "output_type": "execute_result"
    }
   ],
   "source": [
    "df_player"
   ]
  },
  {
   "cell_type": "markdown",
   "metadata": {},
   "source": [
    "First initialize the class \"ApiProcess\" from \"api_related.py\"."
   ]
  },
  {
   "cell_type": "code",
   "execution_count": 12,
   "metadata": {},
   "outputs": [],
   "source": [
    "from src.my_package.EDA import Analysis\n",
    "runner=Analysis(df_player,df_legend)"
   ]
  },
  {
   "cell_type": "markdown",
   "metadata": {},
   "source": [
    "get a overview of dataframe.\n",
    "\n",
    "Can see the different kills, damage and games played for each legends.\n",
    "\n",
    "The total legends played is 10/25.\n",
    "The mean of kills of all legends 168 and games played is 169.\n",
    "Amoung all legends, Caustic is the most played hero, which has 1028 played games and 1098 kills."
   ]
  },
  {
   "cell_type": "code",
   "execution_count": 13,
   "metadata": {},
   "outputs": [
    {
     "data": {
      "text/html": [
       "<div>\n",
       "<style scoped>\n",
       "    .dataframe tbody tr th:only-of-type {\n",
       "        vertical-align: middle;\n",
       "    }\n",
       "\n",
       "    .dataframe tbody tr th {\n",
       "        vertical-align: top;\n",
       "    }\n",
       "\n",
       "    .dataframe thead th {\n",
       "        text-align: right;\n",
       "    }\n",
       "</style>\n",
       "<table border=\"1\" class=\"dataframe\">\n",
       "  <thead>\n",
       "    <tr style=\"text-align: right;\">\n",
       "      <th></th>\n",
       "      <th>kills</th>\n",
       "      <th>Damage</th>\n",
       "      <th>Games_played</th>\n",
       "    </tr>\n",
       "  </thead>\n",
       "  <tbody>\n",
       "    <tr>\n",
       "      <th>count</th>\n",
       "      <td>10.000000</td>\n",
       "      <td>10.000000</td>\n",
       "      <td>10.000000</td>\n",
       "    </tr>\n",
       "    <tr>\n",
       "      <th>mean</th>\n",
       "      <td>168.400000</td>\n",
       "      <td>71952.100000</td>\n",
       "      <td>169.700000</td>\n",
       "    </tr>\n",
       "    <tr>\n",
       "      <th>std</th>\n",
       "      <td>331.684991</td>\n",
       "      <td>137486.901281</td>\n",
       "      <td>307.495998</td>\n",
       "    </tr>\n",
       "    <tr>\n",
       "      <th>min</th>\n",
       "      <td>10.000000</td>\n",
       "      <td>5920.000000</td>\n",
       "      <td>19.000000</td>\n",
       "    </tr>\n",
       "    <tr>\n",
       "      <th>25%</th>\n",
       "      <td>25.250000</td>\n",
       "      <td>11963.000000</td>\n",
       "      <td>32.750000</td>\n",
       "    </tr>\n",
       "    <tr>\n",
       "      <th>50%</th>\n",
       "      <td>43.000000</td>\n",
       "      <td>17510.000000</td>\n",
       "      <td>56.500000</td>\n",
       "    </tr>\n",
       "    <tr>\n",
       "      <th>75%</th>\n",
       "      <td>136.000000</td>\n",
       "      <td>58617.250000</td>\n",
       "      <td>123.750000</td>\n",
       "    </tr>\n",
       "    <tr>\n",
       "      <th>max</th>\n",
       "      <td>1098.000000</td>\n",
       "      <td>454991.000000</td>\n",
       "      <td>1028.000000</td>\n",
       "    </tr>\n",
       "  </tbody>\n",
       "</table>\n",
       "</div>"
      ],
      "text/plain": [
       "             kills         Damage  Games_played\n",
       "count    10.000000      10.000000     10.000000\n",
       "mean    168.400000   71952.100000    169.700000\n",
       "std     331.684991  137486.901281    307.495998\n",
       "min      10.000000    5920.000000     19.000000\n",
       "25%      25.250000   11963.000000     32.750000\n",
       "50%      43.000000   17510.000000     56.500000\n",
       "75%     136.000000   58617.250000    123.750000\n",
       "max    1098.000000  454991.000000   1028.000000"
      ]
     },
     "execution_count": 13,
     "metadata": {},
     "output_type": "execute_result"
    }
   ],
   "source": [
    "df_player.describe()"
   ]
  },
  {
   "cell_type": "markdown",
   "metadata": {},
   "source": [
    "Plot a bar chart of the data. It is pretty obvious that Caustic is the legend that has the most kills, damage and games played."
   ]
  },
  {
   "cell_type": "code",
   "execution_count": 14,
   "metadata": {},
   "outputs": [
    {
     "data": {
      "image/png": "[encoded data removed]",
      "text/plain": [
       "<Figure size 1500x500 with 3 Axes>"
      ]
     },
     "metadata": {},
     "output_type": "display_data"
    }
   ],
   "source": [
    "runner.run_analysis('df_player')"
   ]
  },
  {
   "cell_type": "markdown",
   "metadata": {},
   "source": [
    "Let's do another analysis on kills per game and damage per game. From these cahrts we can conclude that I may be good at playing Revenant, Lifeline and Caustic."
   ]
  },
  {
   "cell_type": "code",
   "execution_count": 15,
   "metadata": {},
   "outputs": [
    {
     "data": {
      "image/png": "[encoded data removed]",
      "text/plain": [
       "<Figure size 1000x600 with 2 Axes>"
      ]
     },
     "metadata": {},
     "output_type": "display_data"
    }
   ],
   "source": [
    "runner.per_game()"
   ]
  },
  {
   "cell_type": "markdown",
   "metadata": {},
   "source": [
    "chart 4-1, 4-2, 4-3"
   ]
  },
  {
   "cell_type": "markdown",
   "metadata": {},
   "source": [
    "Get an overview of the scraped data. The average pick rate is 4% which match the 25 legends."
   ]
  },
  {
   "cell_type": "code",
   "execution_count": 17,
   "metadata": {},
   "outputs": [
    {
     "data": {
      "text/html": [
       "<div>\n",
       "<style scoped>\n",
       "    .dataframe tbody tr th:only-of-type {\n",
       "        vertical-align: middle;\n",
       "    }\n",
       "\n",
       "    .dataframe tbody tr th {\n",
       "        vertical-align: top;\n",
       "    }\n",
       "\n",
       "    .dataframe thead th {\n",
       "        text-align: right;\n",
       "    }\n",
       "</style>\n",
       "<table border=\"1\" class=\"dataframe\">\n",
       "  <thead>\n",
       "    <tr style=\"text-align: right;\">\n",
       "      <th></th>\n",
       "      <th>Pick Rate</th>\n",
       "      <th>Change</th>\n",
       "      <th>Avg Rank</th>\n",
       "      <th>Avg Level</th>\n",
       "    </tr>\n",
       "  </thead>\n",
       "  <tbody>\n",
       "    <tr>\n",
       "      <th>count</th>\n",
       "      <td>25.000000</td>\n",
       "      <td>25.000000</td>\n",
       "      <td>25.000000</td>\n",
       "      <td>25.000000</td>\n",
       "    </tr>\n",
       "    <tr>\n",
       "      <th>mean</th>\n",
       "      <td>4.000000</td>\n",
       "      <td>0.013200</td>\n",
       "      <td>4.600000</td>\n",
       "      <td>441.320000</td>\n",
       "    </tr>\n",
       "    <tr>\n",
       "      <th>std</th>\n",
       "      <td>2.698148</td>\n",
       "      <td>8.487637</td>\n",
       "      <td>0.912871</td>\n",
       "      <td>42.693403</td>\n",
       "    </tr>\n",
       "    <tr>\n",
       "      <th>min</th>\n",
       "      <td>0.700000</td>\n",
       "      <td>-27.130000</td>\n",
       "      <td>3.000000</td>\n",
       "      <td>344.000000</td>\n",
       "    </tr>\n",
       "    <tr>\n",
       "      <th>25%</th>\n",
       "      <td>1.900000</td>\n",
       "      <td>-0.590000</td>\n",
       "      <td>4.000000</td>\n",
       "      <td>415.000000</td>\n",
       "    </tr>\n",
       "    <tr>\n",
       "      <th>50%</th>\n",
       "      <td>2.600000</td>\n",
       "      <td>2.260000</td>\n",
       "      <td>4.000000</td>\n",
       "      <td>444.000000</td>\n",
       "    </tr>\n",
       "    <tr>\n",
       "      <th>75%</th>\n",
       "      <td>6.300000</td>\n",
       "      <td>4.240000</td>\n",
       "      <td>5.000000</td>\n",
       "      <td>462.000000</td>\n",
       "    </tr>\n",
       "    <tr>\n",
       "      <th>max</th>\n",
       "      <td>9.100000</td>\n",
       "      <td>9.230000</td>\n",
       "      <td>7.000000</td>\n",
       "      <td>520.000000</td>\n",
       "    </tr>\n",
       "  </tbody>\n",
       "</table>\n",
       "</div>"
      ],
      "text/plain": [
       "       Pick Rate     Change   Avg Rank   Avg Level\n",
       "count  25.000000  25.000000  25.000000   25.000000\n",
       "mean    4.000000   0.013200   4.600000  441.320000\n",
       "std     2.698148   8.487637   0.912871   42.693403\n",
       "min     0.700000 -27.130000   3.000000  344.000000\n",
       "25%     1.900000  -0.590000   4.000000  415.000000\n",
       "50%     2.600000   2.260000   4.000000  444.000000\n",
       "75%     6.300000   4.240000   5.000000  462.000000\n",
       "max     9.100000   9.230000   7.000000  520.000000"
      ]
     },
     "execution_count": 17,
     "metadata": {},
     "output_type": "execute_result"
    }
   ],
   "source": [
    "df_legend.describe()"
   ]
  },
  {
   "cell_type": "markdown",
   "metadata": {},
   "source": [
    "The legend pick rate dataframe need more transform, from string to actual numbers."
   ]
  },
  {
   "cell_type": "markdown",
   "metadata": {},
   "source": [
    "Can see the pick rate, change in 7 days, rank and level average of all 24 legends."
   ]
  },
  {
   "cell_type": "code",
   "execution_count": 16,
   "metadata": {},
   "outputs": [
    {
     "data": {
      "image/png": "[encoded data removed]",
      "text/plain": [
       "<Figure size 1500x500 with 4 Axes>"
      ]
     },
     "metadata": {},
     "output_type": "display_data"
    }
   ],
   "source": [
    "runner.run_analysis('df_legend')"
   ]
  },
  {
   "cell_type": "markdown",
   "metadata": {},
   "source": [
    "chart 4-4, 4-5, 4-6, 4-7"
   ]
  },
  {
   "cell_type": "markdown",
   "metadata": {},
   "source": [
    "# Part 5: Reference\n",
    "1. https://apexlegendsapi.com/#query-by-uid\n",
    "2. https://apexlegendsstatus.com"
   ]
  }
 ],
 "metadata": {
  "kernelspec": {
   "display_name": "Python 3.10.13 ('AP')",
   "language": "python",
   "name": "python3"
  },
  "language_info": {
   "codemirror_mode": {
    "name": "ipython",
    "version": 3
   },
   "file_extension": ".py",
   "mimetype": "text/x-python",
   "name": "python",
   "nbconvert_exporter": "python",
   "pygments_lexer": "ipython3",
   "version": "3.10.13"
  },
  "orig_nbformat": 4,
  "vscode": {
   "interpreter": {
    "hash": "b1ed10256b798dfe2af017ac6cb23cd3655eebf7de92fb5ac9de5f54fe908f00"
   }
  }
 },
 "nbformat": 4,
 "nbformat_minor": 2
}
